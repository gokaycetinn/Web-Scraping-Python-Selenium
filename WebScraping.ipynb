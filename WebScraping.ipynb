{
  "nbformat": 4,
  "nbformat_minor": 0,
  "metadata": {
    "colab": {
      "provenance": []
    },
    "kernelspec": {
      "name": "python3",
      "display_name": "Python 3"
    },
    "language_info": {
      "name": "python"
    }
  },
  "cells": [
    {
      "cell_type": "markdown",
      "source": [
        "This cell contains the steps required to perform web browser operations using Selenium in the Google Colab environment."
      ],
      "metadata": {
        "id": "-DkuKowZaAel"
      }
    },
    {
      "cell_type": "code",
      "source": [
        "%pip install -q google-colab-selenium\n",
        "import google_colab_selenium as gs\n",
        "driver = gs.Chrome()\n",
        "\n",
        "!pip install selenium"
      ],
      "metadata": {
        "id": "5BGb7J-g9IKs",
        "collapsed": true
      },
      "execution_count": null,
      "outputs": []
    },
    {
      "cell_type": "markdown",
      "source": [
        "This cell collects topics and related data from a research category in the \"Hugging Face\" forum using Selenium and Python. The data is saved in CSV, JSON, and TXT formats."
      ],
      "metadata": {
        "id": "lXpGt2k9a7JA"
      }
    },
    {
      "cell_type": "code",
      "execution_count": null,
      "metadata": {
        "id": "I5sk3zwYuzN0"
      },
      "outputs": [],
      "source": [
        "import csv\n",
        "import json\n",
        "from selenium import webdriver\n",
        "from selenium.webdriver.chrome.options import Options\n",
        "from selenium.webdriver.common.by import By\n",
        "import time\n",
        "\n",
        "chrome_options = Options()\n",
        "chrome_options.add_argument('--headless')\n",
        "chrome_options.add_argument('--no-sandbox')\n",
        "chrome_options.add_argument('--disable-dev-shm-usage')\n",
        "chrome_options.add_argument(\"--disable-gpu\")\n",
        "chrome_options.add_argument(\"--window-size=1920,1000\")\n",
        "chrome_options.add_argument(\"--disable-infobars\")\n",
        "chrome_options.add_argument(\"--disable-popup-blocking\")\n",
        "chrome_options.add_argument(\"--ignore-certificate-errors\")\n",
        "chrome_options.add_argument(\"--incognito\")\n",
        "\n",
        "driver = webdriver.Chrome(options=chrome_options)\n",
        "\n",
        "url = \"https://discuss.huggingface.co/c/research/7/l/top\"\n",
        "driver.get(url)\n",
        "\n",
        "# Scroll the page to load more topics\n",
        "SCROLL_PAUSE_TIME = 2\n",
        "MAX_SCROLLS = 5\n",
        "last_height = driver.execute_script(\"return document.body.scrollHeight\")\n",
        "\n",
        "for _ in range(MAX_SCROLLS):\n",
        "    driver.execute_script(\"window.scrollTo(0, document.body.scrollHeight);\")\n",
        "    time.sleep(SCROLL_PAUSE_TIME)\n",
        "    new_height = driver.execute_script(\"return document.body.scrollHeight\")\n",
        "    if new_height == last_height:\n",
        "        break\n",
        "    last_height = new_height\n",
        "\n",
        "# Extract topic data\n",
        "topics = driver.find_elements(By.CLASS_NAME, \"title.raw-link.raw-topic-link\")\n",
        "topic_owners = driver.find_elements(By.XPATH, \"//td[@class='posters topic-list-data']/a[img[contains(@title, 'Original Poster')]]\")\n",
        "replies = driver.find_elements(By.XPATH, \"//td[contains(@class, 'num posts-map posts')]//span[@class='number']\")\n",
        "views = driver.find_elements(By.XPATH, \"//td[contains(@class, 'num views')]//span[@class='number']\")\n",
        "activity = driver.find_elements(By.XPATH, \"//td[contains(@class, 'num topic-list-data')] \")\n",
        "\n",
        "data = []\n",
        "for i in range(len(topics)):\n",
        "    topic_title = topics[i].text\n",
        "    topic_link = topics[i].get_attribute(\"href\")\n",
        "    topic_owner = topic_owners[i].get_attribute(\"data-user-card\") if i < len(topic_owners) else \"Unknown\"\n",
        "    topic_replies = replies[i].text if i < len(replies) else \"Unknown\"\n",
        "    topic_views = views[i].text if i < len(views) else \"Unknown\"\n",
        "    topic_activity = activity[i].get_attribute(\"title\") if i < len(activity) else \"Unknown\"\n",
        "\n",
        "    data.append({\n",
        "        \"Topic\": topic_title,\n",
        "        \"Link\": topic_link,\n",
        "        \"Owner\": topic_owner,\n",
        "        \"Reply Count\": topic_replies,\n",
        "        \"View Count\": topic_views,\n",
        "        \"Activity Date\": topic_activity\n",
        "    })\n",
        "\n",
        "# Save to CSV file\n",
        "with open(\"topics.csv\", mode=\"w\", newline=\"\", encoding=\"utf-8\") as file:\n",
        "    writer = csv.writer(file)\n",
        "    writer.writerow([\"Topic\", \"Link\", \"Owner\", \"Reply Count\", \"View Count\", \"Activity Date\"])\n",
        "    for item in data:\n",
        "        writer.writerow([item[\"Topic\"], item[\"Link\"], item[\"Owner\"], item[\"Reply Count\"], item[\"View Count\"], item[\"Activity Date\"]])\n",
        "\n",
        "# Save to JSON file\n",
        "with open(\"topics.json\", \"w\", encoding=\"utf-8\") as file:\n",
        "    json.dump(data, file, ensure_ascii=False, indent=4)\n",
        "\n",
        "# Save to TXT file\n",
        "with open(\"topics.txt\", \"w\", encoding=\"utf-8\") as file:\n",
        "    for i, item in enumerate(data, start=1):\n",
        "        file.write(f\"{i}. Topic: {item['Topic']}\\n\")\n",
        "        file.write(f\"   Link: {item['Link']}\\n\")\n",
        "        file.write(f\"   Owner: {item['Owner']}\\n\")\n",
        "        file.write(f\"   Reply Count: {item['Reply Count']}\\n\")\n",
        "        file.write(f\"   View Count: {item['View Count']}\\n\")\n",
        "        file.write(f\"   Activity Date: {item['Activity Date']}\\n\")\n",
        "        file.write(\"-\" * 50 + \"\\n\")\n",
        "\n",
        "print(\"Data has been saved to 'topics.csv', 'topics.json', and 'topics.txt'.\")\n",
        "driver.quit()\n"
      ]
    }
  ]
}